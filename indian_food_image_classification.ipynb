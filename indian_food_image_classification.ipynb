{
  "cells": [
    {
      "cell_type": "code",
      "execution_count": 15,
      "metadata": {
        "id": "Wor_XlijQGwS"
      },
      "outputs": [],
      "source": [
        "import os\n",
        "import cv2\n",
        "import keras\n",
        "import numpy as np\n",
        "import pandas as pd\n",
        "import seaborn as sn\n",
        "import tensorflow as tf\n",
        "import matplotlib.pyplot as plt\n",
        "from keras.optimizers import Adam\n",
        "from keras.models import Sequential\n",
        "from sklearn.metrics import classification_report,confusion_matrix\n",
        "from keras.layers import Dense, Conv2D , MaxPool2D , Flatten , Dropout"
      ]
    },
    {
      "cell_type": "code",
      "execution_count": 16,
      "metadata": {
        "id": "0-3Pcn40pfgC"
      },
      "outputs": [],
      "source": [
        "categories = os.listdir('food20dataset/test_set')\n",
        "img_size = 256\n",
        "\n",
        "def get_data(data_dir):\n",
        "    images = []  \n",
        "    labels = []  \n",
        "    for category in categories: \n",
        "        path = os.path.join(data_dir, category)\n",
        "        class_num = categories.index(category)\n",
        "        for img in os.listdir(path):\n",
        "            try:\n",
        "                img_arr = cv2.imread(os.path.join(path, img))  # Read the image\n",
        "                resized_arr = cv2.resize(img_arr, (img_size, img_size))  # Resize the image\n",
        "                images.append(resized_arr)\n",
        "                labels.append(class_num)\n",
        "            except Exception as e:\n",
        "                print(f\"Error loading image {img}: {e}\")\n",
        "    \n",
        "    # Convert the lists to NumPy arrays\n",
        "    images = np.array(images)\n",
        "    labels = np.array(labels)\n",
        "    return images, labels\n",
        "    \n",
        "x_train, y_train = get_data('food20dataset/train_set')\n",
        "x_val, y_val = get_data('food20dataset/test_set')\n"
      ]
    },
    {
      "cell_type": "code",
      "execution_count": 17,
      "metadata": {
        "id": "tDIEamo18Owh"
      },
      "outputs": [],
      "source": [
        "\n",
        "x_train = x_train / 255.0\n",
        "x_val = x_val / 255.0\n",
        "\n",
        "\n",
        "x_train = x_train.reshape(-1, img_size, img_size, 3) \n",
        "x_val = x_val.reshape(-1, img_size, img_size, 3)\n",
        "\n",
        "y_train = np.array(y_train)\n",
        "y_val = np.array(y_val)"
      ]
    },
    {
      "cell_type": "code",
      "execution_count": 18,
      "metadata": {
        "id": "gJUk481bQ1C_"
      },
      "outputs": [
        {
          "name": "stdout",
          "output_type": "stream",
          "text": [
            "Model: \"sequential_1\"\n",
            "_________________________________________________________________\n",
            " Layer (type)                Output Shape              Param #   \n",
            "=================================================================\n",
            " conv2d_4 (Conv2D)           (None, 256, 256, 128)     3584      \n",
            "                                                                 \n",
            " max_pooling2d_4 (MaxPoolin  (None, 128, 128, 128)     0         \n",
            " g2D)                                                            \n",
            "                                                                 \n",
            " conv2d_5 (Conv2D)           (None, 128, 128, 32)      36896     \n",
            "                                                                 \n",
            " max_pooling2d_5 (MaxPoolin  (None, 64, 64, 32)        0         \n",
            " g2D)                                                            \n",
            "                                                                 \n",
            " conv2d_6 (Conv2D)           (None, 64, 64, 64)        18496     \n",
            "                                                                 \n",
            " max_pooling2d_6 (MaxPoolin  (None, 32, 32, 64)        0         \n",
            " g2D)                                                            \n",
            "                                                                 \n",
            " conv2d_7 (Conv2D)           (None, 32, 32, 64)        36928     \n",
            "                                                                 \n",
            " max_pooling2d_7 (MaxPoolin  (None, 16, 16, 64)        0         \n",
            " g2D)                                                            \n",
            "                                                                 \n",
            " dropout_1 (Dropout)         (None, 16, 16, 64)        0         \n",
            "                                                                 \n",
            " flatten_1 (Flatten)         (None, 16384)             0         \n",
            "                                                                 \n",
            " dense_2 (Dense)             (None, 256)               4194560   \n",
            "                                                                 \n",
            " dense_3 (Dense)             (None, 20)                5140      \n",
            "                                                                 \n",
            "=================================================================\n",
            "Total params: 4295604 (16.39 MB)\n",
            "Trainable params: 4295604 (16.39 MB)\n",
            "Non-trainable params: 0 (0.00 Byte)\n",
            "_________________________________________________________________\n"
          ]
        },
        {
          "name": "stderr",
          "output_type": "stream",
          "text": [
            "WARNING:absl:`lr` is deprecated in Keras optimizer, please use `learning_rate` or use the legacy optimizer, e.g.,tf.keras.optimizers.legacy.Adam.\n"
          ]
        }
      ],
      "source": [
        "model = Sequential()\n",
        "model.add(Conv2D(128,3,padding=\"same\", activation=\"relu\", input_shape=(256,256,3)))\n",
        "model.add(MaxPool2D())\n",
        "\n",
        "model.add(Conv2D(32, 3, padding=\"same\", activation=\"relu\"))\n",
        "model.add(MaxPool2D())\n",
        "\n",
        "model.add(Conv2D(64, 3, padding=\"same\", activation=\"relu\"))\n",
        "model.add(MaxPool2D())\n",
        "\n",
        "model.add(Conv2D(64, 3, padding=\"same\", activation=\"relu\"))\n",
        "model.add(MaxPool2D())\n",
        "model.add(Dropout(0.4))\n",
        "\n",
        "model.add(Flatten())\n",
        "model.add(Dense(256,activation=\"relu\"))\n",
        "model.add(Dense(20, activation=\"softmax\"))\n",
        "\n",
        "model.summary()\n",
        "opt = Adam(lr=0.0001)\n",
        "model.compile(optimizer = opt , loss = tf.keras.losses.SparseCategoricalCrossentropy(from_logits=True) , metrics = ['accuracy'])"
      ]
    },
    {
      "cell_type": "code",
      "execution_count": 19,
      "metadata": {
        "id": "EaASMCskSdvR"
      },
      "outputs": [
        {
          "name": "stdout",
          "output_type": "stream",
          "text": [
            "Epoch 1/25\n",
            "44/44 [==============================] - 93s 2s/step - loss: 2.9997 - accuracy: 0.0550 - val_loss: 2.9843 - val_accuracy: 0.1167\n",
            "Epoch 2/25\n",
            "44/44 [==============================] - 87s 2s/step - loss: 2.8168 - accuracy: 0.1293 - val_loss: 2.5788 - val_accuracy: 0.2050\n",
            "Epoch 3/25\n",
            "44/44 [==============================] - 89s 2s/step - loss: 2.5702 - accuracy: 0.1929 - val_loss: 2.4051 - val_accuracy: 0.2467\n",
            "Epoch 4/25\n",
            "44/44 [==============================] - 82s 2s/step - loss: 2.2988 - accuracy: 0.2843 - val_loss: 2.2532 - val_accuracy: 0.3167\n",
            "Epoch 5/25\n",
            "44/44 [==============================] - 82s 2s/step - loss: 1.8501 - accuracy: 0.4271 - val_loss: 2.0723 - val_accuracy: 0.3850\n",
            "Epoch 6/25\n",
            "44/44 [==============================] - 83s 2s/step - loss: 1.2219 - accuracy: 0.6229 - val_loss: 2.2145 - val_accuracy: 0.4550\n",
            "Epoch 7/25\n",
            "44/44 [==============================] - 86s 2s/step - loss: 0.5943 - accuracy: 0.8214 - val_loss: 2.6102 - val_accuracy: 0.4833\n",
            "Epoch 8/25\n",
            "44/44 [==============================] - 90s 2s/step - loss: 0.3030 - accuracy: 0.9114 - val_loss: 3.2414 - val_accuracy: 0.5250\n",
            "Epoch 9/25\n",
            "44/44 [==============================] - 89s 2s/step - loss: 0.2152 - accuracy: 0.9321 - val_loss: 3.2782 - val_accuracy: 0.5033\n",
            "Epoch 10/25\n",
            "44/44 [==============================] - 87s 2s/step - loss: 0.1569 - accuracy: 0.9529 - val_loss: 3.5586 - val_accuracy: 0.4717\n",
            "Epoch 11/25\n",
            "44/44 [==============================] - 85s 2s/step - loss: 0.1065 - accuracy: 0.9714 - val_loss: 3.8586 - val_accuracy: 0.4867\n",
            "Epoch 12/25\n",
            "44/44 [==============================] - 85s 2s/step - loss: 0.0611 - accuracy: 0.9821 - val_loss: 3.8342 - val_accuracy: 0.4967\n",
            "Epoch 13/25\n",
            "44/44 [==============================] - 86s 2s/step - loss: 0.0385 - accuracy: 0.9857 - val_loss: 3.9623 - val_accuracy: 0.5150\n",
            "Epoch 14/25\n",
            "44/44 [==============================] - 85s 2s/step - loss: 0.0312 - accuracy: 0.9914 - val_loss: 4.1686 - val_accuracy: 0.5133\n",
            "Epoch 15/25\n",
            "44/44 [==============================] - 84s 2s/step - loss: 0.0647 - accuracy: 0.9764 - val_loss: 4.1395 - val_accuracy: 0.4850\n",
            "Epoch 16/25\n",
            "44/44 [==============================] - 84s 2s/step - loss: 0.0455 - accuracy: 0.9857 - val_loss: 4.4033 - val_accuracy: 0.5050\n",
            "Epoch 17/25\n",
            "44/44 [==============================] - 84s 2s/step - loss: 0.0436 - accuracy: 0.9857 - val_loss: 4.7474 - val_accuracy: 0.5033\n",
            "Epoch 18/25\n",
            "44/44 [==============================] - 84s 2s/step - loss: 0.0402 - accuracy: 0.9836 - val_loss: 5.3836 - val_accuracy: 0.4850\n",
            "Epoch 19/25\n",
            "44/44 [==============================] - 84s 2s/step - loss: 0.0690 - accuracy: 0.9793 - val_loss: 4.5677 - val_accuracy: 0.5050\n",
            "Epoch 20/25\n",
            "44/44 [==============================] - 84s 2s/step - loss: 0.0506 - accuracy: 0.9850 - val_loss: 4.2367 - val_accuracy: 0.5133\n",
            "Epoch 21/25\n",
            "44/44 [==============================] - 84s 2s/step - loss: 0.0315 - accuracy: 0.9871 - val_loss: 5.0511 - val_accuracy: 0.4900\n",
            "Epoch 22/25\n",
            "44/44 [==============================] - 88s 2s/step - loss: 0.0468 - accuracy: 0.9864 - val_loss: 4.3896 - val_accuracy: 0.4883\n",
            "Epoch 23/25\n",
            "44/44 [==============================] - 90s 2s/step - loss: 0.0420 - accuracy: 0.9857 - val_loss: 4.6701 - val_accuracy: 0.4933\n",
            "Epoch 24/25\n",
            "44/44 [==============================] - 93s 2s/step - loss: 0.0293 - accuracy: 0.9871 - val_loss: 4.9115 - val_accuracy: 0.5033\n",
            "Epoch 25/25\n",
            "44/44 [==============================] - 94s 2s/step - loss: 0.0605 - accuracy: 0.9807 - val_loss: 4.8860 - val_accuracy: 0.4717\n"
          ]
        }
      ],
      "source": [
        "history = model.fit(x_train,y_train,epochs = 25, validation_data = (x_val, y_val))"
      ]
    },
    {
      "cell_type": "code",
      "execution_count": 20,
      "metadata": {
        "id": "biZGdtbn1yz4"
      },
      "outputs": [
        {
          "data": {
            "image/png": "[encoded data removed]",
            "text/plain": [
              "<Figure size 1500x600 with 2 Axes>"
            ]
          },
          "metadata": {},
          "output_type": "display_data"
        }
      ],
      "source": [
        "import matplotlib.pyplot as plt\n",
        "epochs_range = range(25)\n",
        "acc = history.history['accuracy']\n",
        "val_acc = history.history['val_accuracy']\n",
        "loss = history.history['loss']\n",
        "val_loss = history.history['val_loss']\n",
        "\n",
        "fig, (ax1, ax2) = plt.subplots(1,2, figsize=(15,6))\n",
        "plt.rc('xtick', labelsize=10)    # fontsize of the tick labels\n",
        "plt.rc('ytick', labelsize=10)\n",
        "ax1.plot(epochs_range, acc, label='Training Accuracy', c = '#4CAF50', linewidth=4)\n",
        "ax1.plot(epochs_range, val_acc, label='Validation Accuracy', c='red', linewidth=4)\n",
        "ax1.legend()\n",
        "ax1.set_title('Training and Validation Accuracy',fontsize=18)\n",
        "ax1.set_ylabel('Accuracy',fontsize=18)\n",
        "ax1.set_xlabel('Epoch',fontsize=18)\n",
        "\n",
        "ax2.plot(epochs_range, loss, label='Training Loss',c = '#4CAF50', linewidth=4)\n",
        "ax2.plot(epochs_range, val_loss, label='Validation Loss', c='red', linewidth=4)\n",
        "ax2.legend()\n",
        "ax2.set_title('Training and Validation Loss',fontsize=18)\n",
        "ax2.set_ylabel('Loss',fontsize=18)\n",
        "ax2.set_xlabel('Epoch',fontsize=18)\n",
        "fig.tight_layout(pad=3.0)\n",
        "plt.show()"
      ]
    },
    {
      "cell_type": "code",
      "execution_count": 25,
      "metadata": {
        "id": "FJF9U-tQXS20"
      },
      "outputs": [
        {
          "name": "stdout",
          "output_type": "stream",
          "text": [
            "19/19 [==============================] - 9s 454ms/step\n",
            "                  precision    recall  f1-score   support\n",
            "\n",
            "        biriyani       0.19      0.10      0.13        30\n",
            "    bisibelebath       0.43      0.20      0.27        30\n",
            "      butternaan       0.19      0.10      0.13        30\n",
            "           chaat       0.39      0.43      0.41        30\n",
            "        chappati       0.57      0.77      0.66        30\n",
            "          dhokla       0.55      0.77      0.64        30\n",
            "            dosa       0.17      0.07      0.10        30\n",
            "     gulab jamun       0.35      0.37      0.36        30\n",
            "           halwa       0.56      0.47      0.51        30\n",
            "            idly       0.52      0.53      0.52        30\n",
            "      kathi roll       0.46      0.60      0.52        30\n",
            "       meduvadai       0.22      0.23      0.23        30\n",
            "         noodles       0.35      0.57      0.44        30\n",
            "       paniyaram       0.61      0.77      0.68        30\n",
            "           poori       0.55      0.20      0.29        30\n",
            "          samosa       0.31      0.37      0.33        30\n",
            "tandoori chicken       0.69      0.80      0.74        30\n",
            "            upma       0.40      0.63      0.49        30\n",
            "        vada pav       0.81      0.70      0.75        30\n",
            "      ven pongal       0.85      0.77      0.81        30\n",
            "\n",
            "        accuracy                           0.47       600\n",
            "       macro avg       0.46      0.47      0.45       600\n",
            "    weighted avg       0.46      0.47      0.45       600\n",
            "\n"
          ]
        }
      ],
      "source": [
        "predictions = model.predict(x_val)\n",
        "predicted_classes = np.argmax(predictions, axis=1)\n",
        "print(classification_report(y_val, predicted_classes, target_names=categories))"
      ]
    },
    {
      "cell_type": "markdown",
      "metadata": {
        "id": "pYgLSeXB5XVI"
      },
      "source": [
        "## Transfer Learning..."
      ]
    },
    {
      "cell_type": "code",
      "execution_count": 27,
      "metadata": {
        "id": "M2g-hItgVHxY"
      },
      "outputs": [
        {
          "name": "stdout",
          "output_type": "stream",
          "text": [
            "WARNING:tensorflow:`input_shape` is undefined or non-square, or `rows` is not in [96, 128, 160, 192, 224]. Weights for input shape (224, 224) will be loaded as the default.\n"
          ]
        },
        {
          "name": "stderr",
          "output_type": "stream",
          "text": [
            "WARNING:tensorflow:`input_shape` is undefined or non-square, or `rows` is not in [96, 128, 160, 192, 224]. Weights for input shape (224, 224) will be loaded as the default.\n"
          ]
        },
        {
          "name": "stdout",
          "output_type": "stream",
          "text": [
            "Downloading data from https://storage.googleapis.com/tensorflow/keras-applications/mobilenet_v2/mobilenet_v2_weights_tf_dim_ordering_tf_kernels_1.0_224_no_top.h5\n",
            "9406464/9406464 [==============================] - 2s 0us/step\n",
            "Model: \"sequential_2\"\n",
            "_________________________________________________________________\n",
            " Layer (type)                Output Shape              Param #   \n",
            "=================================================================\n",
            " mobilenetv2_1.00_224 (Func  (None, 8, 8, 1280)        2257984   \n",
            " tional)                                                         \n",
            "                                                                 \n",
            " global_average_pooling2d (  (None, 1280)              0         \n",
            " GlobalAveragePooling2D)                                         \n",
            "                                                                 \n",
            " dropout_2 (Dropout)         (None, 1280)              0         \n",
            "                                                                 \n",
            " dense_4 (Dense)             (None, 20)                25620     \n",
            "                                                                 \n",
            "=================================================================\n",
            "Total params: 2283604 (8.71 MB)\n",
            "Trainable params: 25620 (100.08 KB)\n",
            "Non-trainable params: 2257984 (8.61 MB)\n",
            "_________________________________________________________________\n"
          ]
        }
      ],
      "source": [
        "base_model = tf.keras.applications.MobileNetV2(input_shape = (256, 256, 3), include_top = False, weights = \"imagenet\")\n",
        "base_model.trainable = False\n",
        "model = tf.keras.Sequential([base_model, tf.keras.layers.GlobalAveragePooling2D(), tf.keras.layers.Dropout(0.2), tf.keras.layers.Dense(20, activation=\"softmax\")])\n",
        "model.summary()"
      ]
    },
    {
      "cell_type": "code",
      "execution_count": 28,
      "metadata": {
        "id": "zTWKJ6qAVTWI"
      },
      "outputs": [
        {
          "name": "stderr",
          "output_type": "stream",
          "text": [
            "WARNING:absl:`lr` is deprecated in Keras optimizer, please use `learning_rate` or use the legacy optimizer, e.g.,tf.keras.optimizers.legacy.Adam.\n"
          ]
        },
        {
          "name": "stdout",
          "output_type": "stream",
          "text": [
            "Epoch 1/50\n"
          ]
        },
        {
          "name": "stderr",
          "output_type": "stream",
          "text": [
            "c:\\Users\\G Vijayalakshmi\\AppData\\Local\\Programs\\Python\\Python311\\Lib\\site-packages\\keras\\src\\backend.py:5727: UserWarning: \"`sparse_categorical_crossentropy` received `from_logits=True`, but the `output` argument was produced by a Softmax activation and thus does not represent logits. Was this intended?\n",
            "  output, from_logits = _get_logits(\n"
          ]
        },
        {
          "name": "stdout",
          "output_type": "stream",
          "text": [
            "44/44 [==============================] - 37s 756ms/step - loss: 2.5805 - accuracy: 0.2571 - val_loss: 1.7304 - val_accuracy: 0.5167\n",
            "Epoch 2/50\n",
            "44/44 [==============================] - 30s 695ms/step - loss: 1.3830 - accuracy: 0.6257 - val_loss: 1.2018 - val_accuracy: 0.6767\n",
            "Epoch 3/50\n",
            "44/44 [==============================] - 31s 704ms/step - loss: 0.9651 - accuracy: 0.7421 - val_loss: 0.9919 - val_accuracy: 0.7383\n",
            "Epoch 4/50\n",
            "44/44 [==============================] - 30s 694ms/step - loss: 0.7655 - accuracy: 0.7964 - val_loss: 0.8826 - val_accuracy: 0.7467\n",
            "Epoch 5/50\n",
            "44/44 [==============================] - 30s 683ms/step - loss: 0.6193 - accuracy: 0.8500 - val_loss: 0.8146 - val_accuracy: 0.7800\n",
            "Epoch 6/50\n",
            "44/44 [==============================] - 29s 673ms/step - loss: 0.5434 - accuracy: 0.8671 - val_loss: 0.7583 - val_accuracy: 0.7850\n",
            "Epoch 7/50\n",
            "44/44 [==============================] - 29s 668ms/step - loss: 0.4676 - accuracy: 0.8957 - val_loss: 0.7153 - val_accuracy: 0.8000\n",
            "Epoch 8/50\n",
            "44/44 [==============================] - 29s 661ms/step - loss: 0.3872 - accuracy: 0.9243 - val_loss: 0.6966 - val_accuracy: 0.8100\n",
            "Epoch 9/50\n",
            "44/44 [==============================] - 29s 655ms/step - loss: 0.3572 - accuracy: 0.9271 - val_loss: 0.7017 - val_accuracy: 0.7950\n",
            "Epoch 10/50\n",
            "44/44 [==============================] - 28s 648ms/step - loss: 0.3078 - accuracy: 0.9457 - val_loss: 0.6598 - val_accuracy: 0.8183\n",
            "Epoch 11/50\n",
            "44/44 [==============================] - 28s 650ms/step - loss: 0.2807 - accuracy: 0.9457 - val_loss: 0.6516 - val_accuracy: 0.8150\n",
            "Epoch 12/50\n",
            "44/44 [==============================] - 29s 667ms/step - loss: 0.2473 - accuracy: 0.9614 - val_loss: 0.6454 - val_accuracy: 0.8200\n",
            "Epoch 13/50\n",
            "44/44 [==============================] - 28s 646ms/step - loss: 0.2169 - accuracy: 0.9714 - val_loss: 0.6316 - val_accuracy: 0.8183\n",
            "Epoch 14/50\n",
            "44/44 [==============================] - 28s 652ms/step - loss: 0.1984 - accuracy: 0.9743 - val_loss: 0.6109 - val_accuracy: 0.8283\n",
            "Epoch 15/50\n",
            "44/44 [==============================] - 29s 659ms/step - loss: 0.1869 - accuracy: 0.9764 - val_loss: 0.6251 - val_accuracy: 0.8167\n",
            "Epoch 16/50\n",
            "44/44 [==============================] - 29s 656ms/step - loss: 0.1667 - accuracy: 0.9814 - val_loss: 0.6325 - val_accuracy: 0.8217\n",
            "Epoch 17/50\n",
            "44/44 [==============================] - 29s 662ms/step - loss: 0.1578 - accuracy: 0.9807 - val_loss: 0.6158 - val_accuracy: 0.8300\n",
            "Epoch 18/50\n",
            "44/44 [==============================] - 29s 672ms/step - loss: 0.1401 - accuracy: 0.9914 - val_loss: 0.6102 - val_accuracy: 0.8317\n",
            "Epoch 19/50\n",
            "44/44 [==============================] - 30s 690ms/step - loss: 0.1331 - accuracy: 0.9879 - val_loss: 0.5958 - val_accuracy: 0.8317\n",
            "Epoch 20/50\n",
            "44/44 [==============================] - 29s 668ms/step - loss: 0.1192 - accuracy: 0.9929 - val_loss: 0.6034 - val_accuracy: 0.8317\n",
            "Epoch 21/50\n",
            "44/44 [==============================] - 29s 663ms/step - loss: 0.1148 - accuracy: 0.9921 - val_loss: 0.5986 - val_accuracy: 0.8350\n",
            "Epoch 22/50\n",
            "44/44 [==============================] - 30s 680ms/step - loss: 0.1048 - accuracy: 0.9900 - val_loss: 0.5960 - val_accuracy: 0.8317\n",
            "Epoch 23/50\n",
            "44/44 [==============================] - 31s 709ms/step - loss: 0.0995 - accuracy: 0.9957 - val_loss: 0.6099 - val_accuracy: 0.8283\n",
            "Epoch 24/50\n",
            "44/44 [==============================] - 31s 706ms/step - loss: 0.0921 - accuracy: 0.9964 - val_loss: 0.6012 - val_accuracy: 0.8333\n",
            "Epoch 25/50\n",
            "44/44 [==============================] - 31s 706ms/step - loss: 0.0901 - accuracy: 0.9943 - val_loss: 0.5958 - val_accuracy: 0.8417\n",
            "Epoch 26/50\n",
            "44/44 [==============================] - 31s 707ms/step - loss: 0.0847 - accuracy: 0.9957 - val_loss: 0.5950 - val_accuracy: 0.8417\n",
            "Epoch 27/50\n",
            "44/44 [==============================] - 30s 691ms/step - loss: 0.0768 - accuracy: 0.9971 - val_loss: 0.5952 - val_accuracy: 0.8333\n",
            "Epoch 28/50\n",
            "44/44 [==============================] - 30s 692ms/step - loss: 0.0711 - accuracy: 0.9986 - val_loss: 0.5874 - val_accuracy: 0.8333\n",
            "Epoch 29/50\n",
            "44/44 [==============================] - 30s 682ms/step - loss: 0.0741 - accuracy: 0.9979 - val_loss: 0.5929 - val_accuracy: 0.8400\n",
            "Epoch 30/50\n",
            "44/44 [==============================] - 30s 688ms/step - loss: 0.0651 - accuracy: 0.9979 - val_loss: 0.5879 - val_accuracy: 0.8467\n",
            "Epoch 31/50\n",
            "44/44 [==============================] - 30s 683ms/step - loss: 0.0618 - accuracy: 0.9993 - val_loss: 0.5850 - val_accuracy: 0.8450\n",
            "Epoch 32/50\n",
            "44/44 [==============================] - 31s 710ms/step - loss: 0.0617 - accuracy: 0.9979 - val_loss: 0.5815 - val_accuracy: 0.8433\n",
            "Epoch 33/50\n",
            "44/44 [==============================] - 31s 708ms/step - loss: 0.0633 - accuracy: 0.9957 - val_loss: 0.5931 - val_accuracy: 0.8433\n",
            "Epoch 34/50\n",
            "44/44 [==============================] - 31s 704ms/step - loss: 0.0530 - accuracy: 0.9986 - val_loss: 0.5854 - val_accuracy: 0.8417\n",
            "Epoch 35/50\n",
            "44/44 [==============================] - 32s 727ms/step - loss: 0.0516 - accuracy: 1.0000 - val_loss: 0.5909 - val_accuracy: 0.8400\n",
            "Epoch 36/50\n",
            "44/44 [==============================] - 32s 733ms/step - loss: 0.0497 - accuracy: 0.9986 - val_loss: 0.5866 - val_accuracy: 0.8400\n",
            "Epoch 37/50\n",
            "44/44 [==============================] - 32s 735ms/step - loss: 0.0456 - accuracy: 1.0000 - val_loss: 0.5953 - val_accuracy: 0.8483\n",
            "Epoch 38/50\n",
            "44/44 [==============================] - 32s 731ms/step - loss: 0.0512 - accuracy: 0.9979 - val_loss: 0.5957 - val_accuracy: 0.8433\n",
            "Epoch 39/50\n",
            "44/44 [==============================] - 32s 730ms/step - loss: 0.0463 - accuracy: 0.9979 - val_loss: 0.5925 - val_accuracy: 0.8400\n",
            "Epoch 40/50\n",
            "44/44 [==============================] - 32s 740ms/step - loss: 0.0455 - accuracy: 0.9964 - val_loss: 0.6082 - val_accuracy: 0.8367\n",
            "Epoch 41/50\n",
            "44/44 [==============================] - 32s 740ms/step - loss: 0.0417 - accuracy: 0.9993 - val_loss: 0.5971 - val_accuracy: 0.8367\n",
            "Epoch 42/50\n",
            "44/44 [==============================] - 30s 691ms/step - loss: 0.0407 - accuracy: 0.9986 - val_loss: 0.5843 - val_accuracy: 0.8367\n",
            "Epoch 43/50\n",
            "44/44 [==============================] - 30s 695ms/step - loss: 0.0375 - accuracy: 1.0000 - val_loss: 0.5954 - val_accuracy: 0.8450\n",
            "Epoch 44/50\n",
            "44/44 [==============================] - 30s 689ms/step - loss: 0.0352 - accuracy: 1.0000 - val_loss: 0.5865 - val_accuracy: 0.8400\n",
            "Epoch 45/50\n",
            "44/44 [==============================] - 30s 691ms/step - loss: 0.0355 - accuracy: 0.9993 - val_loss: 0.5956 - val_accuracy: 0.8433\n",
            "Epoch 46/50\n",
            "44/44 [==============================] - 31s 707ms/step - loss: 0.0339 - accuracy: 1.0000 - val_loss: 0.5906 - val_accuracy: 0.8433\n",
            "Epoch 47/50\n",
            "44/44 [==============================] - 30s 677ms/step - loss: 0.0331 - accuracy: 0.9993 - val_loss: 0.6008 - val_accuracy: 0.8450\n",
            "Epoch 48/50\n",
            "44/44 [==============================] - 29s 663ms/step - loss: 0.0336 - accuracy: 0.9986 - val_loss: 0.6095 - val_accuracy: 0.8417\n",
            "Epoch 49/50\n",
            "44/44 [==============================] - 28s 647ms/step - loss: 0.0291 - accuracy: 1.0000 - val_loss: 0.6103 - val_accuracy: 0.8450\n",
            "Epoch 50/50\n",
            "44/44 [==============================] - 29s 657ms/step - loss: 0.0314 - accuracy: 1.0000 - val_loss: 0.5941 - val_accuracy: 0.8467\n"
          ]
        }
      ],
      "source": [
        "base_learning_rate = 0.0001\n",
        "model.compile(optimizer=tf.keras.optimizers.Adam(lr=base_learning_rate), loss=tf.keras.losses.SparseCategoricalCrossentropy(from_logits=True), metrics=['accuracy'])\n",
        "history1 = model.fit(x_train,y_train,epochs = 50, validation_data = (x_val, y_val))"
      ]
    },
    {
      "cell_type": "code",
      "execution_count": 31,
      "metadata": {
        "id": "uK36fFtwVpSg"
      },
      "outputs": [
        {
          "name": "stdout",
          "output_type": "stream",
          "text": [
            "19/19 [==============================] - 10s 432ms/step\n",
            "                  precision    recall  f1-score   support\n",
            "\n",
            "        biriyani       0.83      0.83      0.83        30\n",
            "    bisibelebath       0.71      0.50      0.59        30\n",
            "      butternaan       0.81      0.70      0.75        30\n",
            "           chaat       0.74      0.87      0.80        30\n",
            "        chappati       0.93      0.83      0.88        30\n",
            "          dhokla       0.90      0.93      0.92        30\n",
            "            dosa       0.84      0.70      0.76        30\n",
            "     gulab jamun       0.97      0.97      0.97        30\n",
            "           halwa       0.63      0.80      0.71        30\n",
            "            idly       0.84      0.90      0.87        30\n",
            "      kathi roll       0.81      1.00      0.90        30\n",
            "       meduvadai       0.93      0.87      0.90        30\n",
            "         noodles       0.93      0.93      0.93        30\n",
            "       paniyaram       0.97      0.93      0.95        30\n",
            "           poori       0.90      0.87      0.88        30\n",
            "          samosa       0.91      0.70      0.79        30\n",
            "tandoori chicken       0.91      1.00      0.95        30\n",
            "            upma       0.68      0.77      0.72        30\n",
            "        vada pav       0.93      0.93      0.93        30\n",
            "      ven pongal       0.84      0.90      0.87        30\n",
            "\n",
            "        accuracy                           0.85       600\n",
            "       macro avg       0.85      0.85      0.84       600\n",
            "    weighted avg       0.85      0.85      0.84       600\n",
            "\n"
          ]
        }
      ],
      "source": [
        "predictions = model.predict(x_val)\n",
        "predicted_classes = np.argmax(predictions, axis=1)\n",
        "print(classification_report(y_val, predicted_classes, target_names=categories))"
      ]
    }
  ],
  "metadata": {
    "accelerator": "GPU",
    "colab": {
      "collapsed_sections": [],
      "name": "indian_food_image_classification",
      "provenance": []
    },
    "kernelspec": {
      "display_name": "Python 3",
      "name": "python3"
    },
    "language_info": {
      "codemirror_mode": {
        "name": "ipython",
        "version": 3
      },
      "file_extension": ".py",
      "mimetype": "text/x-python",
      "name": "python",
      "nbconvert_exporter": "python",
      "pygments_lexer": "ipython3",
      "version": "3.11.6"
    }
  },
  "nbformat": 4,
  "nbformat_minor": 0
}
